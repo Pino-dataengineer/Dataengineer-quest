{
 "cells": [
  {
   "cell_type": "raw",
   "id": "3c6768c9",
   "metadata": {},
   "source": [
    "data = df.copy()\n",
    "geocoder = Nominatim(user_agent=\"my_request\")\n",
    "#data['temp'] = data['location'].apply(geocoder.geocode)\n",
    "data['temp'] = df['location'].apply(lambda x: geocoder.geocode(x))"
   ]
  },
  {
   "cell_type": "code",
   "execution_count": null,
   "id": "80463073",
   "metadata": {},
   "outputs": [],
   "source": [
    "import sys\n",
    "import os\n",
    "import csv\n",
    "import pandas as pd\n",
    "\n",
    "import mysql.connector\n",
    "#import pymsql\n",
    "\n",
    "import geopy\n",
    "from geopy.geocoders import Nominatim\n",
    "from geopy.extra.rate_limiter import RateLimiter\n",
    "#geopy.geocoders.options.default_user_agent = \"my_request\""
   ]
  },
  {
   "cell_type": "code",
   "execution_count": null,
   "id": "0dac7344",
   "metadata": {},
   "outputs": [],
   "source": [
    "DIR_PATH = os.path.dirname(__file__)\n",
    "FILE_PATH = os.path.join(DIR_PATH, \"DataEngineer2022_corrected.sql\")\n",
    "\n",
    "path = os.getcwd()\n",
    "csv_file = path + '\\\\DataEngineer2022_corrected.sql'"
   ]
  },
  {
   "cell_type": "markdown",
   "id": "5431ae77",
   "metadata": {},
   "source": [
    "### MySQL connexion"
   ]
  },
  {
   "cell_type": "code",
   "execution_count": 152,
   "id": "415ec3f9",
   "metadata": {},
   "outputs": [],
   "source": [
    "con = mysql.connector.connect(host=\"localhost\", user=\"root\", password=\"\", database=\"dataengineer\",)\n",
    "cursor = con.cursor()\n",
    "\n",
    "query = ('ALTER TABLE address ADD COLUMN (latitude VARCHAR(100), longitude VARCHAR(100));')\n",
    "\n",
    "try:\n",
    "    cursor.execute(query)\n",
    "    con.commit()\n",
    "\n",
    "except :\n",
    "    con.rollback()\n",
    "    \n",
    "cursor.close()\n",
    "con.close()"
   ]
  },
  {
   "cell_type": "code",
   "execution_count": null,
   "id": "1ca5a38d",
   "metadata": {},
   "outputs": [],
   "source": [
    "con = mysql.connector.connect(host=\"localhost\", user=\"root\", password=\"\", database=\"dataengineer\",)\n",
    "\n",
    "cursor = con.cursor()\n",
    "sql_query = \"SELECT * FROM address\"\n",
    "df = pd.read_sql(sql_query, con)\n",
    "\n",
    "df['location'] = df['address'].apply(lambda x: ' '.join([x.split(' ')[0], x.split(' ')[-1]])) #[-2:]\n",
    "df['location'] = df['location'] + ', ' + df.city + ', ' + df.postal_code + ', FRANCE'"
   ]
  },
  {
   "cell_type": "code",
   "execution_count": 54,
   "id": "015fe7a2",
   "metadata": {},
   "outputs": [
    {
     "name": "stderr",
     "output_type": "stream",
     "text": [
      "RateLimiter caught an error, retrying (0/2 tries). Called with (*('29 RUE DE BOD AVEL, LOCMINE, 56500, France',), **{}).\n",
      "Traceback (most recent call last):\n",
      "  File \"C:\\ProgramData\\Anaconda3\\lib\\site-packages\\urllib3\\connection.py\", line 174, in _new_conn\n",
      "    conn = connection.create_connection(\n",
      "  File \"C:\\ProgramData\\Anaconda3\\lib\\site-packages\\urllib3\\util\\connection.py\", line 95, in create_connection\n",
      "    raise err\n",
      "  File \"C:\\ProgramData\\Anaconda3\\lib\\site-packages\\urllib3\\util\\connection.py\", line 85, in create_connection\n",
      "    sock.connect(sa)\n",
      "socket.timeout: timed out\n",
      "\n",
      "During handling of the above exception, another exception occurred:\n",
      "\n",
      "Traceback (most recent call last):\n",
      "  File \"C:\\ProgramData\\Anaconda3\\lib\\site-packages\\urllib3\\connectionpool.py\", line 703, in urlopen\n",
      "    httplib_response = self._make_request(\n",
      "  File \"C:\\ProgramData\\Anaconda3\\lib\\site-packages\\urllib3\\connectionpool.py\", line 386, in _make_request\n",
      "    self._validate_conn(conn)\n",
      "  File \"C:\\ProgramData\\Anaconda3\\lib\\site-packages\\urllib3\\connectionpool.py\", line 1040, in _validate_conn\n",
      "    conn.connect()\n",
      "  File \"C:\\ProgramData\\Anaconda3\\lib\\site-packages\\urllib3\\connection.py\", line 358, in connect\n",
      "    conn = self._new_conn()\n",
      "  File \"C:\\ProgramData\\Anaconda3\\lib\\site-packages\\urllib3\\connection.py\", line 179, in _new_conn\n",
      "    raise ConnectTimeoutError(\n",
      "urllib3.exceptions.ConnectTimeoutError: (<urllib3.connection.HTTPSConnection object at 0x0000018553980610>, 'Connection to nominatim.openstreetmap.org timed out. (connect timeout=1)')\n",
      "\n",
      "During handling of the above exception, another exception occurred:\n",
      "\n",
      "Traceback (most recent call last):\n",
      "  File \"C:\\ProgramData\\Anaconda3\\lib\\site-packages\\requests\\adapters.py\", line 440, in send\n",
      "    resp = conn.urlopen(\n",
      "  File \"C:\\ProgramData\\Anaconda3\\lib\\site-packages\\urllib3\\connectionpool.py\", line 813, in urlopen\n",
      "    return self.urlopen(\n",
      "  File \"C:\\ProgramData\\Anaconda3\\lib\\site-packages\\urllib3\\connectionpool.py\", line 813, in urlopen\n",
      "    return self.urlopen(\n",
      "  File \"C:\\ProgramData\\Anaconda3\\lib\\site-packages\\urllib3\\connectionpool.py\", line 785, in urlopen\n",
      "    retries = retries.increment(\n",
      "  File \"C:\\ProgramData\\Anaconda3\\lib\\site-packages\\urllib3\\util\\retry.py\", line 592, in increment\n",
      "    raise MaxRetryError(_pool, url, error or ResponseError(cause))\n",
      "urllib3.exceptions.MaxRetryError: HTTPSConnectionPool(host='nominatim.openstreetmap.org', port=443): Max retries exceeded with url: /search?q=29+RUE+DE+BOD+AVEL%2C+LOCMINE%2C+56500%2C+France&format=json&limit=1 (Caused by ConnectTimeoutError(<urllib3.connection.HTTPSConnection object at 0x0000018553980610>, 'Connection to nominatim.openstreetmap.org timed out. (connect timeout=1)'))\n",
      "\n",
      "During handling of the above exception, another exception occurred:\n",
      "\n",
      "Traceback (most recent call last):\n",
      "  File \"C:\\ProgramData\\Anaconda3\\lib\\site-packages\\geopy\\adapters.py\", line 448, in _request\n",
      "    resp = self.session.get(url, timeout=timeout, headers=headers)\n",
      "  File \"C:\\ProgramData\\Anaconda3\\lib\\site-packages\\requests\\sessions.py\", line 542, in get\n",
      "    return self.request('GET', url, **kwargs)\n",
      "  File \"C:\\ProgramData\\Anaconda3\\lib\\site-packages\\requests\\sessions.py\", line 529, in request\n",
      "    resp = self.send(prep, **send_kwargs)\n",
      "  File \"C:\\ProgramData\\Anaconda3\\lib\\site-packages\\requests\\sessions.py\", line 645, in send\n",
      "    r = adapter.send(request, **kwargs)\n",
      "  File \"C:\\ProgramData\\Anaconda3\\lib\\site-packages\\requests\\adapters.py\", line 507, in send\n",
      "    raise ConnectTimeout(e, request=request)\n",
      "requests.exceptions.ConnectTimeout: HTTPSConnectionPool(host='nominatim.openstreetmap.org', port=443): Max retries exceeded with url: /search?q=29+RUE+DE+BOD+AVEL%2C+LOCMINE%2C+56500%2C+France&format=json&limit=1 (Caused by ConnectTimeoutError(<urllib3.connection.HTTPSConnection object at 0x0000018553980610>, 'Connection to nominatim.openstreetmap.org timed out. (connect timeout=1)'))\n",
      "\n",
      "During handling of the above exception, another exception occurred:\n",
      "\n",
      "Traceback (most recent call last):\n",
      "  File \"C:\\ProgramData\\Anaconda3\\lib\\site-packages\\geopy\\extra\\rate_limiter.py\", line 136, in _retries_gen\n",
      "    yield i  # Run the function.\n",
      "  File \"C:\\ProgramData\\Anaconda3\\lib\\site-packages\\geopy\\extra\\rate_limiter.py\", line 274, in __call__\n",
      "    res = self.func(*args, **kwargs)\n",
      "  File \"C:\\ProgramData\\Anaconda3\\lib\\site-packages\\geopy\\geocoders\\nominatim.py\", line 297, in geocode\n",
      "    return self._call_geocoder(url, callback, timeout=timeout)\n",
      "  File \"C:\\ProgramData\\Anaconda3\\lib\\site-packages\\geopy\\geocoders\\base.py\", line 368, in _call_geocoder\n",
      "    result = self.adapter.get_json(url, timeout=timeout, headers=req_headers)\n",
      "  File \"C:\\ProgramData\\Anaconda3\\lib\\site-packages\\geopy\\adapters.py\", line 438, in get_json\n",
      "    resp = self._request(url, timeout=timeout, headers=headers)\n",
      "  File \"C:\\ProgramData\\Anaconda3\\lib\\site-packages\\geopy\\adapters.py\", line 460, in _request\n",
      "    raise GeocoderUnavailable(message)\n",
      "geopy.exc.GeocoderUnavailable: HTTPSConnectionPool(host='nominatim.openstreetmap.org', port=443): Max retries exceeded with url: /search?q=29+RUE+DE+BOD+AVEL%2C+LOCMINE%2C+56500%2C+France&format=json&limit=1 (Caused by ConnectTimeoutError(<urllib3.connection.HTTPSConnection object at 0x0000018553980610>, 'Connection to nominatim.openstreetmap.org timed out. (connect timeout=1)'))\n"
     ]
    }
   ],
   "source": [
    "geolocator = Nominatim(user_agent=\"my_request\") # Create an instance of Nominatim class\n",
    "geocode = RateLimiter(geolocator.geocode, min_delay_seconds=1) # Wrap instance for query rate limitation\n",
    "\n",
    "try:\n",
    "    df['geocode'] = df['location'].apply(geocode) # Applying geocode method to get location into DataFrame\n",
    "\n",
    "except Exception as inst:\n",
    "    print(inst)\n",
    "\n",
    "df['Lat'] = df['geocode'].apply(lambda x: x.latitude if x else '') #if x != None else None\n",
    "df['Lon'] = df['geocode'].apply(lambda x: x.longitude if x else '')\n",
    "df = df.fillna(\"\")"
   ]
  },
  {
   "cell_type": "code",
   "execution_count": 58,
   "id": "a1b9ce6e",
   "metadata": {},
   "outputs": [],
   "source": [
    "df.to_csv('address_geocode.csv', index=False, sep=';', encoding='utf-8')  "
   ]
  },
  {
   "cell_type": "code",
   "execution_count": 158,
   "id": "2f85ce24",
   "metadata": {
    "scrolled": true
   },
   "outputs": [
    {
     "data": {
      "text/plain": [
       "(101, (562, 9))"
      ]
     },
     "execution_count": 158,
     "metadata": {},
     "output_type": "execute_result"
    }
   ],
   "source": [
    "df.geocode.isna().sum(), df.shape"
   ]
  },
  {
   "cell_type": "code",
   "execution_count": null,
   "id": "f34e462a",
   "metadata": {},
   "outputs": [],
   "source": [
    "# A NE PAS FAIRE  !!!!\n",
    "# Plutôt executer un UPDATE dataengineer SET address ...\n",
    "# Ne pas effacer car la table car relation avec d'autres tables\n",
    "\n",
    "query = \"DELETE FROM address WHERE address_id IS NOT NULL;\"\n",
    "\n",
    "\n",
    "try:\n",
    "    con = mysql.connector.connect(host=\"localhost\", user=\"root\", password=\"\", database=\"dataengineer\")\n",
    "    cursor = con.cursor()\n",
    "    cursor.execute(query)\n",
    "    con.commit()\n",
    "\n",
    "finally:\n",
    "    cursor.close()\n",
    "    con.close()"
   ]
  },
  {
   "cell_type": "code",
   "execution_count": null,
   "id": "66ad5c93",
   "metadata": {},
   "outputs": [],
   "source": [
    "data = df[['address_id', 'address', 'city', 'postal_code', 'Lat', 'Lon']]\n",
    "data = data.fillna(\"\")\n",
    "\n",
    "val_to_insert = data.values.tolist()\n",
    "\n",
    "try:\n",
    "    con = mysql.connector.connect(host=\"localhost\", user=\"root\", password=\"\", database=\"dataengineer\")\n",
    "    cursor = con.cursor()\n",
    "    \n",
    "    cursor.executemany(\"INSERT INTO address(address_id, address, city, postal_code, latitude, longitude) \\\n",
    "    values (%s, %s, %s, %s, %s, %s);\", val_to_insert)\n",
    "    \n",
    "    con.commit()\n",
    "    \n",
    "finally:\n",
    "    cursor.close()\n",
    "    con.close()"
   ]
  },
  {
   "cell_type": "markdown",
   "id": "f1821963",
   "metadata": {},
   "source": [
    "### Nominatim API"
   ]
  },
  {
   "cell_type": "code",
   "execution_count": null,
   "id": "c0621204",
   "metadata": {},
   "outputs": [],
   "source": [
    "SELECT * FROM suppliers WHERE state = 'Florida' AND supplier_id > 1000;\n",
    "\n",
    "dd = (\"SELECT suppliers.suppler_name, orders.order_id FROM suppliers, orders \\\n",
    "WHERE suppliers.supplier_id = orders.supplier_id AND suppliers.state = 'California';\")\n",
    "\n",
    "query4 = 'SELECT last_name, first_name, count(rental from customer_id), \\ \n",
    "adress_id, latitude, longitue FROM actor, rental;'"
   ]
  },
  {
   "cell_type": "code",
   "execution_count": null,
   "id": "60b8b32a",
   "metadata": {},
   "outputs": [],
   "source": [
    "def read_dump(filename):\n",
    "    with open(filename, 'r') as f:\n",
    "        for line in f:\n",
    "            cursor.execute(line)"
   ]
  },
  {
   "cell_type": "markdown",
   "id": "825bc09f",
   "metadata": {},
   "source": [
    "https://blog.adrienvh.fr/2015/01/18/geocoder-en-masse-plusieurs-milliers-dadresses-avec-python-et-nominatim/\n",
    "\n",
    "https://www.youtube.com/watch?v=0IjdfgmWzMk\n",
    "\n",
    "https://www.askpython.com/python/python-geopy-to-find-geocode-of-an-address\n",
    "\n",
    "https://github.com/tiffsea/python-code/blob/master/demos/geopy_query_addresses.ipynb"
   ]
  },
  {
   "cell_type": "raw",
   "id": "b87af5e9",
   "metadata": {},
   "source": [
    "filename = \n",
    "cursor.execute('CREATE DATABASE' + filename)"
   ]
  },
  {
   "cell_type": "code",
   "execution_count": null,
   "id": "f5e6147e",
   "metadata": {},
   "outputs": [],
   "source": [
    "C:\\xampp\\mysql\\bin>mysql -u {DB_USER} -p {DB_NAME} < path/to/file/ab.sql\n",
    "xampp shell: mysql -h localhost -u root databasename < dump.sql\n",
    "    \n",
    "https://simplebackups.com/blog/how-to-import-sql-file-in-mysql/\n",
    "$ mysqlimport -u magazine_admin -p magazines_production ~/backup/database/magazines.sql"
   ]
  }
 ],
 "metadata": {
  "kernelspec": {
   "display_name": "Python 3 (ipykernel)",
   "language": "python",
   "name": "python3"
  },
  "language_info": {
   "codemirror_mode": {
    "name": "ipython",
    "version": 3
   },
   "file_extension": ".py",
   "mimetype": "text/x-python",
   "name": "python",
   "nbconvert_exporter": "python",
   "pygments_lexer": "ipython3",
   "version": "3.8.12"
  }
 },
 "nbformat": 4,
 "nbformat_minor": 5
}
